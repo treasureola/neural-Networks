{
 "cells": [
  {
   "cell_type": "code",
   "execution_count": 753,
   "metadata": {},
   "outputs": [],
   "source": [
    "from sklearn.datasets import fetch_openml\n",
    "import numpy as np\n",
    "from matplotlib import pyplot as plt\n",
    "import torch\n",
    "import torchvision\n",
    "import torch.nn as nn\n",
    "import torch.nn.functional as F\n",
    "import torch.optim as optim\n",
    "from torch.autograd import Variable\n",
    "from torch.utils.data import DataLoader, TensorDataset\n",
    "import torchvision.datasets as datasets\n",
    "import torchvision.transforms as transforms"
   ]
  },
  {
   "cell_type": "code",
   "execution_count": 754,
   "metadata": {},
   "outputs": [
    {
     "data": {
      "image/png": "[encoded data removed]",
      "text/plain": [
       "<Figure size 640x480 with 9 Axes>"
      ]
     },
     "metadata": {},
     "output_type": "display_data"
    }
   ],
   "source": [
    "np.random.seed(1)  \n",
    "\n",
    "mnist = fetch_openml('mnist_784')\n",
    "\n",
    "X = mnist.data.to_numpy().reshape(-1,28,28)\n",
    "Y = mnist.target.to_numpy()\n",
    "shuffle = np.random.permutation(70000)\n",
    "Xtrain, Xtest = X[shuffle[:60000]], X[shuffle[60000:]]\n",
    "Ytrain, Ytest = Y[shuffle[:60000]], Y[shuffle[60000:]]\n",
    "\n",
    "fig, axs = plt.subplots(3,3)\n",
    "for i in range(len(axs)):\n",
    "\tfor j in range(len(axs[0])):\n",
    "\t\taxs[i][j].imshow(Xtrain[len(axs)*i + j], interpolation='none', cmap='gray')\n",
    "\t\taxs[i][j].set_title(f'Label = {Ytrain[len(axs)*i + j]}')\n",
    "\t\taxs[i][j].axis('off')\n",
    "plt.show()"
   ]
  },
  {
   "cell_type": "code",
   "execution_count": 755,
   "metadata": {},
   "outputs": [],
   "source": [
    "xtrain = torch.FloatTensor(Xtrain.tolist()) #convert the xtrain data to tensor list\n",
    "ytrain_int = Ytrain.astype(int) #convert the ytrain data to int\n",
    "ytrain = torch.FloatTensor(ytrain_int.tolist()) #convert the ytrain data to tensor list\n",
    "\n",
    "xtest = torch.FloatTensor(Xtest.tolist()) #convert the xtest data to tensor list\n",
    "ytest_int = Ytest.astype(int) #convert the ytest data to int \n",
    "ytest = torch.FloatTensor(ytest_int.tolist()) #convert the xtest data to tensor list"
   ]
  },
  {
   "cell_type": "code",
   "execution_count": 756,
   "metadata": {},
   "outputs": [],
   "source": [
    "train_dataset = TensorDataset(xtrain, ytrain) #convert the xtrain and ytrain data into one tensor dataset\n",
    "train_loader = DataLoader(train_dataset, batch_size=64)\n",
    "\n",
    "test_dataset = TensorDataset(xtest, ytest) #convert the xtest and ytest data into one tensor dataset\n",
    "test_loader = DataLoader(test_dataset, batch_size=64)"
   ]
  },
  {
   "cell_type": "code",
   "execution_count": 757,
   "metadata": {},
   "outputs": [],
   "source": [
    "#FULLY CONNECTED NETWORK\n",
    "\n",
    "# Hyperparameters\n",
    "input_size = 784\n",
    "num_class = 10\n",
    "learning_rate = 0.001\n",
    "num_epochs = 5"
   ]
  },
  {
   "cell_type": "code",
   "execution_count": 758,
   "metadata": {},
   "outputs": [],
   "source": [
    "#Network implementation\n",
    "class NN(nn.Module):  # inherits nn.Module\n",
    "    def __init__(self, input_size, num_classes):  # input size = 28x28 = 784 for mnist\n",
    "        super(NN,self).__init__()\n",
    "        self.linear1 = nn.Linear(input_size, 64) \n",
    "        self.linear2 = nn.Linear(64, 32) \n",
    "        self.final = nn.Linear(32, num_classes)\n",
    "        self.relu = nn.ReLU()\n",
    "\n",
    "    def forward(self, x): #convert + flatten\n",
    "        x = x.view(-1, 28*28)\n",
    "        x = self.relu(self.linear1(x))\n",
    "        x = self.relu(self.linear2(x))\n",
    "        x = self.final(x)\n",
    "        return x"
   ]
  },
  {
   "cell_type": "code",
   "execution_count": 759,
   "metadata": {},
   "outputs": [],
   "source": [
    "# Initialize Network\n",
    "model = NN(input_size=input_size, num_classes=num_class)\n",
    "\n",
    "# Loss\n",
    "criterion = nn.CrossEntropyLoss()\n",
    "\n",
    "# Optimizer\n",
    "optimizer = optim.Adam(model.parameters(), lr=learning_rate)"
   ]
  },
  {
   "cell_type": "code",
   "execution_count": 760,
   "metadata": {},
   "outputs": [],
   "source": [
    "# Train Network\n",
    "for epoch in range(num_epochs):  \n",
    "    for batch_idx, (data, targets) in enumerate(train_loader):\n",
    "        \n",
    "        data = data.reshape(data.shape[0], -1)  # Flatten\n",
    "\n",
    "        # forward\n",
    "        scores = model(data)\n",
    "        \n",
    "        targets = targets.long()\n",
    "        loss = criterion(scores, targets)\n",
    "\n",
    "        # backward\n",
    "        optimizer.zero_grad()  # set all gradients to zero for each batch\n",
    "        loss.backward()\n",
    "\n",
    "        # gradient descent\n",
    "        optimizer.step()"
   ]
  },
  {
   "cell_type": "code",
   "execution_count": 761,
   "metadata": {},
   "outputs": [
    {
     "name": "stdout",
     "output_type": "stream",
     "text": [
      "Fully connected network accuracy of the training data\n",
      "Got 58428/60000 with accuracy  97.38\n",
      "\n",
      "\n",
      "Fully connected network accuracy of the testing data\n",
      "Got 9631/10000 with accuracy  96.31\n"
     ]
    }
   ],
   "source": [
    "def test(loader, model):\n",
    "\n",
    "    num_correct = 0\n",
    "    num_samples = 0\n",
    "    model.eval()\n",
    "\n",
    "    with torch.no_grad():  # dont compute gradients\n",
    "        for x, y in loader:\n",
    "\n",
    "            x = x.reshape(x.shape[0],-1)\n",
    "\n",
    "            scores = model(x)\n",
    "            _, predictions = scores.max(1)\n",
    "\n",
    "            num_correct += (predictions == y).sum()\n",
    "            num_samples += predictions.size(0)\n",
    "\n",
    "        print(f'Got {num_correct}/{num_samples} with accuracy {float(num_correct)/float(num_samples)*100: .2f}')\n",
    "    model.train()\n",
    "\n",
    "\n",
    "print(\"Fully connected network accuracy of the training data\")\n",
    "test(train_loader, model)\n",
    "print('\\n')\n",
    "print(\"Fully connected network accuracy of the testing data\")\n",
    "test(test_loader, model)"
   ]
  },
  {
   "cell_type": "code",
   "execution_count": 762,
   "metadata": {},
   "outputs": [],
   "source": [
    "#CONVOLUTIONAL NETWORK\n",
    "\n",
    "# Hyperparameters\n",
    "num_class=10\n",
    "in_channel = 1  # => Changed parameter\n",
    "learning_rate = 0.001\n",
    "num_epochs = 5"
   ]
  },
  {
   "cell_type": "code",
   "execution_count": 763,
   "metadata": {},
   "outputs": [],
   "source": [
    "class CNN(nn.Module):\n",
    "    def __init__(self, in_channels, num_classes):\n",
    "        super(CNN, self).__init__()\n",
    "        self.conv1 = nn.Conv2d(in_channels, 32, 3, padding=1)\n",
    "        self.conv2 = nn.Conv2d(32, 64, 3, padding=1)\n",
    "        self.conv3 = nn.Conv2d(64, 128, 3, padding=1)\n",
    "        self.conv4 = nn.Conv2d(128, 256, 3, padding=1)\n",
    "        self.pool = nn.MaxPool2d(2, 2)\n",
    "        self.fc1 = nn.Linear(256, 128)\n",
    "        self.fc2 = nn.Linear(128, num_classes)\n",
    "        self.relu = nn.ReLU()\n",
    "\n",
    "    def forward(self, x):\n",
    "        x = x.view(-1, 1, 28,28)\n",
    "        x = self.pool(self.relu(self.conv1(x)))\n",
    "        x = self.pool(self.relu(self.conv2(x)))\n",
    "        x = self.pool(self.relu(self.conv3(x)))\n",
    "        x = self.pool(self.relu(self.conv4(x)))\n",
    "        \n",
    "        x = x.view(-1, 256)\n",
    "        x = self.relu(self.fc1(x))   \n",
    "        x = self.fc2(x)\n",
    "        return x\n",
    "    "
   ]
  },
  {
   "cell_type": "code",
   "execution_count": 764,
   "metadata": {},
   "outputs": [],
   "source": [
    "# Initialize Network\n",
    "model = CNN(in_channels=in_channel, num_classes=num_class)\n",
    "\n",
    "# Loss\n",
    "criterion = nn.CrossEntropyLoss()\n",
    "\n",
    "# Optimizer\n",
    "optimizer = optim.Adam(model.parameters(), lr=learning_rate)"
   ]
  },
  {
   "cell_type": "code",
   "execution_count": 765,
   "metadata": {},
   "outputs": [],
   "source": [
    "# Train Network\n",
    "for epoch in range(num_epochs):      \n",
    "    for batch_idx, (data, targets) in enumerate(train_loader):\n",
    "\n",
    "        # forward\n",
    "        scores = model(data)\n",
    "        \n",
    "        targets = targets.long()\n",
    "        loss = criterion(scores, targets)\n",
    "\n",
    "        # backward\n",
    "        optimizer.zero_grad()  # set all gradients to zero for each batch\n",
    "        loss.backward()\n",
    "\n",
    "        # gradient descent\n",
    "        optimizer.step()"
   ]
  },
  {
   "cell_type": "code",
   "execution_count": 766,
   "metadata": {},
   "outputs": [
    {
     "name": "stdout",
     "output_type": "stream",
     "text": [
      "Convolutional network accuracy of the training data\n",
      "Got 59421/60000 with accuracy  99.03\n",
      "\n",
      "\n",
      "Convolutional network accuracy of the testing data\n",
      "Got 9848/10000 with accuracy  98.48\n"
     ]
    }
   ],
   "source": [
    "def test(loader, model):\n",
    "\n",
    "    num_correct = 0\n",
    "    num_samples = 0\n",
    "    model.eval()\n",
    "\n",
    "    with torch.no_grad():  # dont compute gradients\n",
    "        for x, y in loader:\n",
    "\n",
    "            scores = model(x)\n",
    "            _, predictions = scores.max(1)\n",
    "\n",
    "            num_correct += (predictions == y).sum()\n",
    "            num_samples += predictions.size(0)\n",
    "\n",
    "        print(f'Got {num_correct}/{num_samples} with accuracy {float(num_correct)/float(num_samples)*100: .2f}')\n",
    "    model.train()\n",
    "\n",
    "print(\"Convolutional network accuracy of the training data\")\n",
    "test(train_loader, model)\n",
    "print('\\n')\n",
    "print(\"Convolutional network accuracy of the testing data\")\n",
    "test(test_loader, model)"
   ]
  }
 ],
 "metadata": {
  "kernelspec": {
   "display_name": "Python 3",
   "language": "python",
   "name": "python3"
  },
  "language_info": {
   "codemirror_mode": {
    "name": "ipython",
    "version": 3
   },
   "file_extension": ".py",
   "mimetype": "text/x-python",
   "name": "python",
   "nbconvert_exporter": "python",
   "pygments_lexer": "ipython3",
   "version": "3.9.6"
  }
 },
 "nbformat": 4,
 "nbformat_minor": 2
}
